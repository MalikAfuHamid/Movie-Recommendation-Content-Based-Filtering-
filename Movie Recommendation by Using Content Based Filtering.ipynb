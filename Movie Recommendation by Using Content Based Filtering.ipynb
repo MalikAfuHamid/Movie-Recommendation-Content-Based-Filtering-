{
 "cells": [
  {
   "cell_type": "markdown",
   "id": "42eb206b",
   "metadata": {},
   "source": [
    "# 1. Import Libraries"
   ]
  },
  {
   "cell_type": "code",
   "execution_count": 1,
   "id": "2be8c267",
   "metadata": {},
   "outputs": [],
   "source": [
    "import numpy as np\n",
    "import pandas as pd\n",
    "import matplotlib.pyplot as plt\n",
    "import seaborn as sns\n",
    "\n",
    "from nltk.tokenize import word_tokenize\n",
    "from nltk.corpus import stopwords\n",
    "from string import punctuation\n",
    "\n",
    "sw_eng = stopwords.words('english') "
   ]
  },
  {
   "cell_type": "markdown",
   "id": "5d652651",
   "metadata": {},
   "source": [
    "# 2. Import Dataset"
   ]
  },
  {
   "cell_type": "code",
   "execution_count": 2,
   "id": "a704acdb",
   "metadata": {},
   "outputs": [
    {
     "data": {
      "text/html": [
       "<div>\n",
       "<style scoped>\n",
       "    .dataframe tbody tr th:only-of-type {\n",
       "        vertical-align: middle;\n",
       "    }\n",
       "\n",
       "    .dataframe tbody tr th {\n",
       "        vertical-align: top;\n",
       "    }\n",
       "\n",
       "    .dataframe thead th {\n",
       "        text-align: right;\n",
       "    }\n",
       "</style>\n",
       "<table border=\"1\" class=\"dataframe\">\n",
       "  <thead>\n",
       "    <tr style=\"text-align: right;\">\n",
       "      <th></th>\n",
       "      <th>title</th>\n",
       "      <th>genres</th>\n",
       "      <th>cast</th>\n",
       "      <th>keywords</th>\n",
       "      <th>director</th>\n",
       "      <th>metadata</th>\n",
       "    </tr>\n",
       "  </thead>\n",
       "  <tbody>\n",
       "    <tr>\n",
       "      <th>0</th>\n",
       "      <td>Toy Story</td>\n",
       "      <td>animation comedy family</td>\n",
       "      <td>tom_hanks tim_allen don_rickles</td>\n",
       "      <td>jealousy toy boy</td>\n",
       "      <td>john_lasseter</td>\n",
       "      <td>animation comedy family tom_hanks tim_allen do...</td>\n",
       "    </tr>\n",
       "    <tr>\n",
       "      <th>1</th>\n",
       "      <td>Jumanji</td>\n",
       "      <td>adventure fantasy family</td>\n",
       "      <td>robin_williams jonathan_hyde kirsten_dunst</td>\n",
       "      <td>board_game disappearance based_on_children's_book</td>\n",
       "      <td>joe_johnston</td>\n",
       "      <td>adventure fantasy family robin_williams jonath...</td>\n",
       "    </tr>\n",
       "    <tr>\n",
       "      <th>2</th>\n",
       "      <td>Grumpier Old Men</td>\n",
       "      <td>romance comedy</td>\n",
       "      <td>walter_matthau jack_lemmon ann-margret</td>\n",
       "      <td>fishing best_friend duringcreditsstinger</td>\n",
       "      <td>howard_deutch</td>\n",
       "      <td>romance comedy walter_matthau jack_lemmon ann-...</td>\n",
       "    </tr>\n",
       "    <tr>\n",
       "      <th>3</th>\n",
       "      <td>Waiting to Exhale</td>\n",
       "      <td>comedy drama romance</td>\n",
       "      <td>whitney_houston angela_bassett loretta_devine</td>\n",
       "      <td>based_on_novel interracial_relationship single...</td>\n",
       "      <td>forest_whitaker</td>\n",
       "      <td>comedy drama romance whitney_houston angela_ba...</td>\n",
       "    </tr>\n",
       "    <tr>\n",
       "      <th>4</th>\n",
       "      <td>Father of the Bride Part II</td>\n",
       "      <td>comedy</td>\n",
       "      <td>steve_martin diane_keaton martin_short</td>\n",
       "      <td>baby midlife_crisis confidence</td>\n",
       "      <td>charles_shyer</td>\n",
       "      <td>comedy steve_martin diane_keaton martin_short ...</td>\n",
       "    </tr>\n",
       "  </tbody>\n",
       "</table>\n",
       "</div>"
      ],
      "text/plain": [
       "                         title                    genres  \\\n",
       "0                    Toy Story   animation comedy family   \n",
       "1                      Jumanji  adventure fantasy family   \n",
       "2             Grumpier Old Men            romance comedy   \n",
       "3            Waiting to Exhale      comedy drama romance   \n",
       "4  Father of the Bride Part II                    comedy   \n",
       "\n",
       "                                            cast  \\\n",
       "0                tom_hanks tim_allen don_rickles   \n",
       "1     robin_williams jonathan_hyde kirsten_dunst   \n",
       "2         walter_matthau jack_lemmon ann-margret   \n",
       "3  whitney_houston angela_bassett loretta_devine   \n",
       "4         steve_martin diane_keaton martin_short   \n",
       "\n",
       "                                            keywords         director  \\\n",
       "0                                   jealousy toy boy    john_lasseter   \n",
       "1  board_game disappearance based_on_children's_book     joe_johnston   \n",
       "2           fishing best_friend duringcreditsstinger    howard_deutch   \n",
       "3  based_on_novel interracial_relationship single...  forest_whitaker   \n",
       "4                     baby midlife_crisis confidence    charles_shyer   \n",
       "\n",
       "                                            metadata  \n",
       "0  animation comedy family tom_hanks tim_allen do...  \n",
       "1  adventure fantasy family robin_williams jonath...  \n",
       "2  romance comedy walter_matthau jack_lemmon ann-...  \n",
       "3  comedy drama romance whitney_houston angela_ba...  \n",
       "4  comedy steve_martin diane_keaton martin_short ...  "
      ]
     },
     "execution_count": 2,
     "metadata": {},
     "output_type": "execute_result"
    }
   ],
   "source": [
    "df = pd.read_csv('content_by_multiple.csv')\n",
    "\n",
    "df.head()"
   ]
  },
  {
   "cell_type": "code",
   "execution_count": 3,
   "id": "d2b1f3a5",
   "metadata": {},
   "outputs": [],
   "source": [
    "df.metadata = df.title + ' ' + df.genres + ' ' + df.metadata "
   ]
  },
  {
   "cell_type": "code",
   "execution_count": 4,
   "id": "fb2f677e",
   "metadata": {},
   "outputs": [
    {
     "data": {
      "text/plain": [
       "0        Toy Story animation comedy family animation co...\n",
       "1        Jumanji adventure fantasy family adventure fan...\n",
       "2        Grumpier Old Men romance comedy romance comedy...\n",
       "3        Waiting to Exhale comedy drama romance comedy ...\n",
       "4        Father of the Bride Part II comedy comedy stev...\n",
       "                               ...                        \n",
       "42272    Caged Heat 3000 science_fiction science_fictio...\n",
       "42273    Subdue drama family drama family jeanne_d'alcy...\n",
       "42274     Century of Birthing drama drama   robert_gardner\n",
       "42275                                                  NaN\n",
       "42276                                                  NaN\n",
       "Name: metadata, Length: 42277, dtype: object"
      ]
     },
     "execution_count": 4,
     "metadata": {},
     "output_type": "execute_result"
    }
   ],
   "source": [
    "df.metadata"
   ]
  },
  {
   "cell_type": "code",
   "execution_count": 5,
   "id": "20eee749",
   "metadata": {},
   "outputs": [
    {
     "name": "stdout",
     "output_type": "stream",
     "text": [
      "<class 'pandas.core.frame.DataFrame'>\n",
      "RangeIndex: 42277 entries, 0 to 42276\n",
      "Data columns (total 6 columns):\n",
      " #   Column    Non-Null Count  Dtype \n",
      "---  ------    --------------  ----- \n",
      " 0   title     42277 non-null  object\n",
      " 1   genres    39995 non-null  object\n",
      " 2   cast      40005 non-null  object\n",
      " 3   keywords  29045 non-null  object\n",
      " 4   director  41447 non-null  object\n",
      " 5   metadata  39995 non-null  object\n",
      "dtypes: object(6)\n",
      "memory usage: 1.9+ MB\n"
     ]
    }
   ],
   "source": [
    "df.info()"
   ]
  },
  {
   "cell_type": "code",
   "execution_count": 6,
   "id": "3fcc2586",
   "metadata": {},
   "outputs": [],
   "source": [
    "df.fillna(' ', inplace=True)"
   ]
  },
  {
   "cell_type": "code",
   "execution_count": 7,
   "id": "395f8470",
   "metadata": {},
   "outputs": [
    {
     "name": "stdout",
     "output_type": "stream",
     "text": [
      "<class 'pandas.core.frame.DataFrame'>\n",
      "RangeIndex: 42277 entries, 0 to 42276\n",
      "Data columns (total 6 columns):\n",
      " #   Column    Non-Null Count  Dtype \n",
      "---  ------    --------------  ----- \n",
      " 0   title     42277 non-null  object\n",
      " 1   genres    42277 non-null  object\n",
      " 2   cast      42277 non-null  object\n",
      " 3   keywords  42277 non-null  object\n",
      " 4   director  42277 non-null  object\n",
      " 5   metadata  42277 non-null  object\n",
      "dtypes: object(6)\n",
      "memory usage: 1.9+ MB\n"
     ]
    }
   ],
   "source": [
    "df.info()"
   ]
  },
  {
   "cell_type": "code",
   "execution_count": 8,
   "id": "0bebb926",
   "metadata": {},
   "outputs": [
    {
     "data": {
      "text/html": [
       "<div>\n",
       "<style scoped>\n",
       "    .dataframe tbody tr th:only-of-type {\n",
       "        vertical-align: middle;\n",
       "    }\n",
       "\n",
       "    .dataframe tbody tr th {\n",
       "        vertical-align: top;\n",
       "    }\n",
       "\n",
       "    .dataframe thead th {\n",
       "        text-align: right;\n",
       "    }\n",
       "</style>\n",
       "<table border=\"1\" class=\"dataframe\">\n",
       "  <thead>\n",
       "    <tr style=\"text-align: right;\">\n",
       "      <th></th>\n",
       "      <th>title</th>\n",
       "      <th>genres</th>\n",
       "      <th>cast</th>\n",
       "      <th>keywords</th>\n",
       "      <th>director</th>\n",
       "      <th>metadata</th>\n",
       "    </tr>\n",
       "  </thead>\n",
       "  <tbody>\n",
       "    <tr>\n",
       "      <th>count</th>\n",
       "      <td>42277</td>\n",
       "      <td>42277</td>\n",
       "      <td>42277</td>\n",
       "      <td>42277</td>\n",
       "      <td>42277</td>\n",
       "      <td>42277</td>\n",
       "    </tr>\n",
       "    <tr>\n",
       "      <th>unique</th>\n",
       "      <td>42277</td>\n",
       "      <td>1989</td>\n",
       "      <td>39226</td>\n",
       "      <td>23791</td>\n",
       "      <td>16747</td>\n",
       "      <td>39996</td>\n",
       "    </tr>\n",
       "    <tr>\n",
       "      <th>top</th>\n",
       "      <td>Toy Story</td>\n",
       "      <td>drama</td>\n",
       "      <td></td>\n",
       "      <td></td>\n",
       "      <td></td>\n",
       "      <td></td>\n",
       "    </tr>\n",
       "    <tr>\n",
       "      <th>freq</th>\n",
       "      <td>1</td>\n",
       "      <td>4565</td>\n",
       "      <td>2272</td>\n",
       "      <td>13232</td>\n",
       "      <td>830</td>\n",
       "      <td>2282</td>\n",
       "    </tr>\n",
       "  </tbody>\n",
       "</table>\n",
       "</div>"
      ],
      "text/plain": [
       "            title genres   cast keywords director metadata\n",
       "count       42277  42277  42277    42277    42277    42277\n",
       "unique      42277   1989  39226    23791    16747    39996\n",
       "top     Toy Story  drama                                  \n",
       "freq            1   4565   2272    13232      830     2282"
      ]
     },
     "execution_count": 8,
     "metadata": {},
     "output_type": "execute_result"
    }
   ],
   "source": [
    "df.describe(include='O')"
   ]
  },
  {
   "cell_type": "code",
   "execution_count": 9,
   "id": "1d1bf831",
   "metadata": {},
   "outputs": [
    {
     "data": {
      "text/plain": [
       "(42277, 6)"
      ]
     },
     "execution_count": 9,
     "metadata": {},
     "output_type": "execute_result"
    }
   ],
   "source": [
    "df.shape"
   ]
  },
  {
   "cell_type": "markdown",
   "id": "eeb96c3e",
   "metadata": {},
   "source": [
    "## 3 Cleaning metadata"
   ]
  },
  {
   "cell_type": "code",
   "execution_count": 10,
   "id": "c4e6c26c",
   "metadata": {},
   "outputs": [],
   "source": [
    "def clean_data(text):\n",
    "    text = text.lower()\n",
    "    text = text.replace('_',' ')\n",
    "    clean_word = word_tokenize(text)\n",
    "    clean_word = [word for word in clean_word if word not in punctuation]\n",
    "    clean_word = [word for word in clean_word if word not in sw_eng]\n",
    "    clean_word = ' '.join(clean_word)\n",
    "    return clean_word"
   ]
  },
  {
   "cell_type": "code",
   "execution_count": 11,
   "id": "a4823455",
   "metadata": {},
   "outputs": [],
   "source": [
    "df.metadata = df.metadata.apply(clean_data)"
   ]
  },
  {
   "cell_type": "code",
   "execution_count": 12,
   "id": "7b210dac",
   "metadata": {},
   "outputs": [
    {
     "data": {
      "text/html": [
       "<div>\n",
       "<style scoped>\n",
       "    .dataframe tbody tr th:only-of-type {\n",
       "        vertical-align: middle;\n",
       "    }\n",
       "\n",
       "    .dataframe tbody tr th {\n",
       "        vertical-align: top;\n",
       "    }\n",
       "\n",
       "    .dataframe thead th {\n",
       "        text-align: right;\n",
       "    }\n",
       "</style>\n",
       "<table border=\"1\" class=\"dataframe\">\n",
       "  <thead>\n",
       "    <tr style=\"text-align: right;\">\n",
       "      <th></th>\n",
       "      <th>title</th>\n",
       "      <th>genres</th>\n",
       "      <th>cast</th>\n",
       "      <th>keywords</th>\n",
       "      <th>director</th>\n",
       "      <th>metadata</th>\n",
       "    </tr>\n",
       "  </thead>\n",
       "  <tbody>\n",
       "    <tr>\n",
       "      <th>0</th>\n",
       "      <td>Toy Story</td>\n",
       "      <td>animation comedy family</td>\n",
       "      <td>tom_hanks tim_allen don_rickles</td>\n",
       "      <td>jealousy toy boy</td>\n",
       "      <td>john_lasseter</td>\n",
       "      <td>toy story animation comedy family animation co...</td>\n",
       "    </tr>\n",
       "    <tr>\n",
       "      <th>1</th>\n",
       "      <td>Jumanji</td>\n",
       "      <td>adventure fantasy family</td>\n",
       "      <td>robin_williams jonathan_hyde kirsten_dunst</td>\n",
       "      <td>board_game disappearance based_on_children's_book</td>\n",
       "      <td>joe_johnston</td>\n",
       "      <td>jumanji adventure fantasy family adventure fan...</td>\n",
       "    </tr>\n",
       "    <tr>\n",
       "      <th>2</th>\n",
       "      <td>Grumpier Old Men</td>\n",
       "      <td>romance comedy</td>\n",
       "      <td>walter_matthau jack_lemmon ann-margret</td>\n",
       "      <td>fishing best_friend duringcreditsstinger</td>\n",
       "      <td>howard_deutch</td>\n",
       "      <td>grumpier old men romance comedy romance comedy...</td>\n",
       "    </tr>\n",
       "    <tr>\n",
       "      <th>3</th>\n",
       "      <td>Waiting to Exhale</td>\n",
       "      <td>comedy drama romance</td>\n",
       "      <td>whitney_houston angela_bassett loretta_devine</td>\n",
       "      <td>based_on_novel interracial_relationship single...</td>\n",
       "      <td>forest_whitaker</td>\n",
       "      <td>waiting exhale comedy drama romance comedy dra...</td>\n",
       "    </tr>\n",
       "    <tr>\n",
       "      <th>4</th>\n",
       "      <td>Father of the Bride Part II</td>\n",
       "      <td>comedy</td>\n",
       "      <td>steve_martin diane_keaton martin_short</td>\n",
       "      <td>baby midlife_crisis confidence</td>\n",
       "      <td>charles_shyer</td>\n",
       "      <td>father bride part ii comedy comedy steve marti...</td>\n",
       "    </tr>\n",
       "  </tbody>\n",
       "</table>\n",
       "</div>"
      ],
      "text/plain": [
       "                         title                    genres  \\\n",
       "0                    Toy Story   animation comedy family   \n",
       "1                      Jumanji  adventure fantasy family   \n",
       "2             Grumpier Old Men            romance comedy   \n",
       "3            Waiting to Exhale      comedy drama romance   \n",
       "4  Father of the Bride Part II                    comedy   \n",
       "\n",
       "                                            cast  \\\n",
       "0                tom_hanks tim_allen don_rickles   \n",
       "1     robin_williams jonathan_hyde kirsten_dunst   \n",
       "2         walter_matthau jack_lemmon ann-margret   \n",
       "3  whitney_houston angela_bassett loretta_devine   \n",
       "4         steve_martin diane_keaton martin_short   \n",
       "\n",
       "                                            keywords         director  \\\n",
       "0                                   jealousy toy boy    john_lasseter   \n",
       "1  board_game disappearance based_on_children's_book     joe_johnston   \n",
       "2           fishing best_friend duringcreditsstinger    howard_deutch   \n",
       "3  based_on_novel interracial_relationship single...  forest_whitaker   \n",
       "4                     baby midlife_crisis confidence    charles_shyer   \n",
       "\n",
       "                                            metadata  \n",
       "0  toy story animation comedy family animation co...  \n",
       "1  jumanji adventure fantasy family adventure fan...  \n",
       "2  grumpier old men romance comedy romance comedy...  \n",
       "3  waiting exhale comedy drama romance comedy dra...  \n",
       "4  father bride part ii comedy comedy steve marti...  "
      ]
     },
     "execution_count": 12,
     "metadata": {},
     "output_type": "execute_result"
    }
   ],
   "source": [
    "df.head()"
   ]
  },
  {
   "cell_type": "markdown",
   "id": "c1ab5859",
   "metadata": {},
   "source": [
    "# 4. Encode Metadata"
   ]
  },
  {
   "cell_type": "code",
   "execution_count": 13,
   "id": "6d9e2b4f",
   "metadata": {},
   "outputs": [],
   "source": [
    "from sklearn.feature_extraction.text import TfidfVectorizer"
   ]
  },
  {
   "cell_type": "code",
   "execution_count": 14,
   "id": "b15ba579",
   "metadata": {},
   "outputs": [],
   "source": [
    "tfidf = TfidfVectorizer()\n",
    "tfidf_bank = tfidf.fit_transform(df.metadata)"
   ]
  },
  {
   "cell_type": "code",
   "execution_count": 15,
   "id": "a8f7ad94",
   "metadata": {},
   "outputs": [],
   "source": [
    "idx = 0"
   ]
  },
  {
   "cell_type": "code",
   "execution_count": 16,
   "id": "71c0bdc1",
   "metadata": {},
   "outputs": [
    {
     "data": {
      "text/plain": [
       "'toy story animation comedy family animation comedy family tom hanks tim allen rickles jealousy toy boy john lasseter'"
      ]
     },
     "execution_count": 16,
     "metadata": {},
     "output_type": "execute_result"
    }
   ],
   "source": [
    "content = df.loc[idx, 'metadata']\n",
    "content"
   ]
  },
  {
   "cell_type": "code",
   "execution_count": 17,
   "id": "416b9c46",
   "metadata": {},
   "outputs": [
    {
     "data": {
      "text/plain": [
       "<1x62569 sparse matrix of type '<class 'numpy.float64'>'\n",
       "\twith 14 stored elements in Compressed Sparse Row format>"
      ]
     },
     "execution_count": 17,
     "metadata": {},
     "output_type": "execute_result"
    }
   ],
   "source": [
    "code = tfidf.transform([content])\n",
    "code"
   ]
  },
  {
   "cell_type": "code",
   "execution_count": 18,
   "id": "ad2e11b7",
   "metadata": {},
   "outputs": [
    {
     "data": {
      "text/plain": [
       "array([[0., 0., 0., ..., 0., 0., 0.]])"
      ]
     },
     "execution_count": 18,
     "metadata": {},
     "output_type": "execute_result"
    }
   ],
   "source": [
    "code.toarray()"
   ]
  },
  {
   "cell_type": "markdown",
   "id": "d571a981",
   "metadata": {},
   "source": [
    "# 5. Document Search"
   ]
  },
  {
   "cell_type": "code",
   "execution_count": 19,
   "id": "da4eb67d",
   "metadata": {},
   "outputs": [],
   "source": [
    "from sklearn.metrics.pairwise import cosine_distances"
   ]
  },
  {
   "cell_type": "code",
   "execution_count": 20,
   "id": "e479e491",
   "metadata": {},
   "outputs": [
    {
     "data": {
      "text/plain": [
       "array([[0.        , 0.93810268, 0.97777938, ..., 1.        , 1.        ,\n",
       "        1.        ]])"
      ]
     },
     "execution_count": 20,
     "metadata": {},
     "output_type": "execute_result"
    }
   ],
   "source": [
    "distance = cosine_distances(code, tfidf_bank)\n",
    "distance"
   ]
  },
  {
   "cell_type": "code",
   "execution_count": 21,
   "id": "9aade95d",
   "metadata": {},
   "outputs": [
    {
     "data": {
      "text/plain": [
       "array([ 2963, 14771, 24390, 18267,  3839, 24391, 18318, 20885, 27890,\n",
       "       10785], dtype=int64)"
      ]
     },
     "execution_count": 21,
     "metadata": {},
     "output_type": "execute_result"
    }
   ],
   "source": [
    "recom = distance.argsort()[0, 1:11]\n",
    "recom"
   ]
  },
  {
   "cell_type": "markdown",
   "id": "325a3821",
   "metadata": {},
   "source": [
    "### Check Similarity"
   ]
  },
  {
   "cell_type": "code",
   "execution_count": 22,
   "id": "51af1eae",
   "metadata": {},
   "outputs": [
    {
     "data": {
      "text/plain": [
       "'Toy Story'"
      ]
     },
     "execution_count": 22,
     "metadata": {},
     "output_type": "execute_result"
    }
   ],
   "source": [
    "df.iloc[0][0] #Toy Story"
   ]
  },
  {
   "cell_type": "code",
   "execution_count": 23,
   "id": "b9b11214",
   "metadata": {},
   "outputs": [
    {
     "data": {
      "text/plain": [
       "'Toy Story 3'"
      ]
     },
     "execution_count": 23,
     "metadata": {},
     "output_type": "execute_result"
    }
   ],
   "source": [
    "df.iloc[14771][0]"
   ]
  },
  {
   "cell_type": "code",
   "execution_count": 24,
   "id": "788acdc9",
   "metadata": {},
   "outputs": [
    {
     "data": {
      "text/plain": [
       "'Toy Story 2'"
      ]
     },
     "execution_count": 24,
     "metadata": {},
     "output_type": "execute_result"
    }
   ],
   "source": [
    "df.iloc[2963][0]"
   ]
  },
  {
   "cell_type": "markdown",
   "id": "14106f4c",
   "metadata": {},
   "source": [
    "# 5. Content Based Filtering"
   ]
  },
  {
   "cell_type": "code",
   "execution_count": 25,
   "id": "f75fbb94",
   "metadata": {},
   "outputs": [],
   "source": [
    "class RecommenderSystem:\n",
    "    def __init__(self, data, meta_data):\n",
    "        self.df = df\n",
    "        self.meta_data = meta_data\n",
    "        \n",
    "    \n",
    "    def fit(self):\n",
    "        self.encoder =  TfidfVectorizer()\n",
    "        self.bank = self.encoder.fit_transform(self.df[self.meta_data])\n",
    "    \n",
    "    \n",
    "    def recommend (self, idx, topk = 10):\n",
    "        content = df.loc[idx, self.meta_data]\n",
    "        code = self.encoder.transform([content])\n",
    "        distance = cosine_distances(code, self.bank)\n",
    "        recom = distance.argsort()[0, 1:(topk+1)]\n",
    "        return self.df.loc[recom]"
   ]
  },
  {
   "cell_type": "code",
   "execution_count": 26,
   "id": "bdee0484",
   "metadata": {},
   "outputs": [],
   "source": [
    "recsys = RecommenderSystem(data=df, meta_data='metadata')\n",
    "recsys.fit()"
   ]
  },
  {
   "cell_type": "markdown",
   "id": "0d686b99",
   "metadata": {},
   "source": [
    "### Similar Movie with Toy Story"
   ]
  },
  {
   "cell_type": "code",
   "execution_count": 27,
   "id": "293c272d",
   "metadata": {},
   "outputs": [
    {
     "data": {
      "text/html": [
       "<div>\n",
       "<style scoped>\n",
       "    .dataframe tbody tr th:only-of-type {\n",
       "        vertical-align: middle;\n",
       "    }\n",
       "\n",
       "    .dataframe tbody tr th {\n",
       "        vertical-align: top;\n",
       "    }\n",
       "\n",
       "    .dataframe thead th {\n",
       "        text-align: right;\n",
       "    }\n",
       "</style>\n",
       "<table border=\"1\" class=\"dataframe\">\n",
       "  <thead>\n",
       "    <tr style=\"text-align: right;\">\n",
       "      <th></th>\n",
       "      <th>title</th>\n",
       "      <th>genres</th>\n",
       "      <th>cast</th>\n",
       "      <th>keywords</th>\n",
       "      <th>director</th>\n",
       "      <th>metadata</th>\n",
       "    </tr>\n",
       "  </thead>\n",
       "  <tbody>\n",
       "    <tr>\n",
       "      <th>0</th>\n",
       "      <td>Toy Story</td>\n",
       "      <td>animation comedy family</td>\n",
       "      <td>tom_hanks tim_allen don_rickles</td>\n",
       "      <td>jealousy toy boy</td>\n",
       "      <td>john_lasseter</td>\n",
       "      <td>toy story animation comedy family animation co...</td>\n",
       "    </tr>\n",
       "  </tbody>\n",
       "</table>\n",
       "</div>"
      ],
      "text/plain": [
       "       title                   genres                             cast  \\\n",
       "0  Toy Story  animation comedy family  tom_hanks tim_allen don_rickles   \n",
       "\n",
       "           keywords       director  \\\n",
       "0  jealousy toy boy  john_lasseter   \n",
       "\n",
       "                                            metadata  \n",
       "0  toy story animation comedy family animation co...  "
      ]
     },
     "execution_count": 27,
     "metadata": {},
     "output_type": "execute_result"
    }
   ],
   "source": [
    "df[df['title'] == 'Toy Story']"
   ]
  },
  {
   "cell_type": "code",
   "execution_count": 28,
   "id": "19ac00a8",
   "metadata": {},
   "outputs": [
    {
     "data": {
      "text/html": [
       "<div>\n",
       "<style scoped>\n",
       "    .dataframe tbody tr th:only-of-type {\n",
       "        vertical-align: middle;\n",
       "    }\n",
       "\n",
       "    .dataframe tbody tr th {\n",
       "        vertical-align: top;\n",
       "    }\n",
       "\n",
       "    .dataframe thead th {\n",
       "        text-align: right;\n",
       "    }\n",
       "</style>\n",
       "<table border=\"1\" class=\"dataframe\">\n",
       "  <thead>\n",
       "    <tr style=\"text-align: right;\">\n",
       "      <th></th>\n",
       "      <th>title</th>\n",
       "      <th>genres</th>\n",
       "      <th>cast</th>\n",
       "      <th>keywords</th>\n",
       "      <th>director</th>\n",
       "      <th>metadata</th>\n",
       "    </tr>\n",
       "  </thead>\n",
       "  <tbody>\n",
       "    <tr>\n",
       "      <th>2963</th>\n",
       "      <td>Toy Story 2</td>\n",
       "      <td>animation comedy family</td>\n",
       "      <td>tom_hanks tim_allen joan_cusack</td>\n",
       "      <td>museum prosecution identity_crisis</td>\n",
       "      <td>john_lasseter</td>\n",
       "      <td>toy story 2 animation comedy family animation ...</td>\n",
       "    </tr>\n",
       "    <tr>\n",
       "      <th>14771</th>\n",
       "      <td>Toy Story 3</td>\n",
       "      <td>animation family comedy</td>\n",
       "      <td>tom_hanks tim_allen ned_beatty</td>\n",
       "      <td>hostage college toy</td>\n",
       "      <td>lee_unkrich</td>\n",
       "      <td>toy story 3 animation family comedy animation ...</td>\n",
       "    </tr>\n",
       "    <tr>\n",
       "      <th>24390</th>\n",
       "      <td>The Legend of Mor'du</td>\n",
       "      <td>animation family</td>\n",
       "      <td>tom_hanks tim_allen joan_cusack</td>\n",
       "      <td>toy short toy_story</td>\n",
       "      <td>steve_purcell</td>\n",
       "      <td>legend mor'du animation family animation famil...</td>\n",
       "    </tr>\n",
       "    <tr>\n",
       "      <th>18267</th>\n",
       "      <td>Tin Toy</td>\n",
       "      <td>animation</td>\n",
       "      <td></td>\n",
       "      <td>pixar_animation</td>\n",
       "      <td>john_lasseter</td>\n",
       "      <td>tin toy animation animation pixar animation jo...</td>\n",
       "    </tr>\n",
       "    <tr>\n",
       "      <th>3839</th>\n",
       "      <td>The Transformers: The Movie</td>\n",
       "      <td>animation</td>\n",
       "      <td>judd_nelson peter_cullen frank_welker</td>\n",
       "      <td>toy transformation based_on_toy</td>\n",
       "      <td>nelson_shin</td>\n",
       "      <td>transformers movie animation animation judd ne...</td>\n",
       "    </tr>\n",
       "    <tr>\n",
       "      <th>24391</th>\n",
       "      <td>Toy Story That Time Forgot</td>\n",
       "      <td>animation family</td>\n",
       "      <td>justice_leak robert_pralgo jason_turner</td>\n",
       "      <td></td>\n",
       "      <td>thomas_verrette</td>\n",
       "      <td>toy story time forgot animation family animati...</td>\n",
       "    </tr>\n",
       "    <tr>\n",
       "      <th>18318</th>\n",
       "      <td>Red's Dream</td>\n",
       "      <td>animation</td>\n",
       "      <td></td>\n",
       "      <td>pixar_animation</td>\n",
       "      <td>john_lasseter</td>\n",
       "      <td>red 's dream animation animation pixar animati...</td>\n",
       "    </tr>\n",
       "    <tr>\n",
       "      <th>20885</th>\n",
       "      <td>Toy Story of Terror!</td>\n",
       "      <td>animation comedy family</td>\n",
       "      <td>maurice_chevalier merle_oberon ann_sothern</td>\n",
       "      <td>paris folies_bergère</td>\n",
       "      <td>roy_del_ruth</td>\n",
       "      <td>toy story terror animation comedy family anima...</td>\n",
       "    </tr>\n",
       "    <tr>\n",
       "      <th>27890</th>\n",
       "      <td>Barbie as the Island Princess</td>\n",
       "      <td>animation family</td>\n",
       "      <td>kelly_sheridan roger_monk garry_chalk</td>\n",
       "      <td>based_on_toy</td>\n",
       "      <td>william_lau</td>\n",
       "      <td>barbie island princess animation family animat...</td>\n",
       "    </tr>\n",
       "    <tr>\n",
       "      <th>10785</th>\n",
       "      <td>Monster House</td>\n",
       "      <td>animation comedy family</td>\n",
       "      <td>ryan_newman steve_buscemi mitchel_musso</td>\n",
       "      <td>monster secret toy</td>\n",
       "      <td>gil_kenan</td>\n",
       "      <td>monster house animation comedy family animatio...</td>\n",
       "    </tr>\n",
       "  </tbody>\n",
       "</table>\n",
       "</div>"
      ],
      "text/plain": [
       "                               title                   genres  \\\n",
       "2963                     Toy Story 2  animation comedy family   \n",
       "14771                    Toy Story 3  animation family comedy   \n",
       "24390           The Legend of Mor'du         animation family   \n",
       "18267                        Tin Toy                animation   \n",
       "3839     The Transformers: The Movie                animation   \n",
       "24391     Toy Story That Time Forgot         animation family   \n",
       "18318                    Red's Dream                animation   \n",
       "20885           Toy Story of Terror!  animation comedy family   \n",
       "27890  Barbie as the Island Princess         animation family   \n",
       "10785                  Monster House  animation comedy family   \n",
       "\n",
       "                                             cast  \\\n",
       "2963              tom_hanks tim_allen joan_cusack   \n",
       "14771              tom_hanks tim_allen ned_beatty   \n",
       "24390             tom_hanks tim_allen joan_cusack   \n",
       "18267                                               \n",
       "3839        judd_nelson peter_cullen frank_welker   \n",
       "24391     justice_leak robert_pralgo jason_turner   \n",
       "18318                                               \n",
       "20885  maurice_chevalier merle_oberon ann_sothern   \n",
       "27890       kelly_sheridan roger_monk garry_chalk   \n",
       "10785     ryan_newman steve_buscemi mitchel_musso   \n",
       "\n",
       "                                 keywords         director  \\\n",
       "2963   museum prosecution identity_crisis    john_lasseter   \n",
       "14771                 hostage college toy      lee_unkrich   \n",
       "24390                 toy short toy_story    steve_purcell   \n",
       "18267                     pixar_animation    john_lasseter   \n",
       "3839      toy transformation based_on_toy      nelson_shin   \n",
       "24391                                      thomas_verrette   \n",
       "18318                     pixar_animation    john_lasseter   \n",
       "20885                paris folies_bergère     roy_del_ruth   \n",
       "27890                        based_on_toy      william_lau   \n",
       "10785                  monster secret toy        gil_kenan   \n",
       "\n",
       "                                                metadata  \n",
       "2963   toy story 2 animation comedy family animation ...  \n",
       "14771  toy story 3 animation family comedy animation ...  \n",
       "24390  legend mor'du animation family animation famil...  \n",
       "18267  tin toy animation animation pixar animation jo...  \n",
       "3839   transformers movie animation animation judd ne...  \n",
       "24391  toy story time forgot animation family animati...  \n",
       "18318  red 's dream animation animation pixar animati...  \n",
       "20885  toy story terror animation comedy family anima...  \n",
       "27890  barbie island princess animation family animat...  \n",
       "10785  monster house animation comedy family animatio...  "
      ]
     },
     "execution_count": 28,
     "metadata": {},
     "output_type": "execute_result"
    }
   ],
   "source": [
    "recsys.recommend(0) #Toy Story"
   ]
  },
  {
   "cell_type": "markdown",
   "id": "b6ab93e3",
   "metadata": {},
   "source": [
    "### Similar Movie with Jumanji"
   ]
  },
  {
   "cell_type": "code",
   "execution_count": 29,
   "id": "2ba8d86c",
   "metadata": {},
   "outputs": [
    {
     "data": {
      "text/html": [
       "<div>\n",
       "<style scoped>\n",
       "    .dataframe tbody tr th:only-of-type {\n",
       "        vertical-align: middle;\n",
       "    }\n",
       "\n",
       "    .dataframe tbody tr th {\n",
       "        vertical-align: top;\n",
       "    }\n",
       "\n",
       "    .dataframe thead th {\n",
       "        text-align: right;\n",
       "    }\n",
       "</style>\n",
       "<table border=\"1\" class=\"dataframe\">\n",
       "  <thead>\n",
       "    <tr style=\"text-align: right;\">\n",
       "      <th></th>\n",
       "      <th>title</th>\n",
       "      <th>genres</th>\n",
       "      <th>cast</th>\n",
       "      <th>keywords</th>\n",
       "      <th>director</th>\n",
       "      <th>metadata</th>\n",
       "    </tr>\n",
       "  </thead>\n",
       "  <tbody>\n",
       "    <tr>\n",
       "      <th>1</th>\n",
       "      <td>Jumanji</td>\n",
       "      <td>adventure fantasy family</td>\n",
       "      <td>robin_williams jonathan_hyde kirsten_dunst</td>\n",
       "      <td>board_game disappearance based_on_children's_book</td>\n",
       "      <td>joe_johnston</td>\n",
       "      <td>jumanji adventure fantasy family adventure fan...</td>\n",
       "    </tr>\n",
       "  </tbody>\n",
       "</table>\n",
       "</div>"
      ],
      "text/plain": [
       "     title                    genres  \\\n",
       "1  Jumanji  adventure fantasy family   \n",
       "\n",
       "                                         cast  \\\n",
       "1  robin_williams jonathan_hyde kirsten_dunst   \n",
       "\n",
       "                                            keywords      director  \\\n",
       "1  board_game disappearance based_on_children's_book  joe_johnston   \n",
       "\n",
       "                                            metadata  \n",
       "1  jumanji adventure fantasy family adventure fan...  "
      ]
     },
     "execution_count": 29,
     "metadata": {},
     "output_type": "execute_result"
    }
   ],
   "source": [
    "df[df['title'] == 'Jumanji']"
   ]
  },
  {
   "cell_type": "code",
   "execution_count": 30,
   "id": "124abc58",
   "metadata": {},
   "outputs": [
    {
     "data": {
      "text/html": [
       "<div>\n",
       "<style scoped>\n",
       "    .dataframe tbody tr th:only-of-type {\n",
       "        vertical-align: middle;\n",
       "    }\n",
       "\n",
       "    .dataframe tbody tr th {\n",
       "        vertical-align: top;\n",
       "    }\n",
       "\n",
       "    .dataframe thead th {\n",
       "        text-align: right;\n",
       "    }\n",
       "</style>\n",
       "<table border=\"1\" class=\"dataframe\">\n",
       "  <thead>\n",
       "    <tr style=\"text-align: right;\">\n",
       "      <th></th>\n",
       "      <th>title</th>\n",
       "      <th>genres</th>\n",
       "      <th>cast</th>\n",
       "      <th>keywords</th>\n",
       "      <th>director</th>\n",
       "      <th>metadata</th>\n",
       "    </tr>\n",
       "  </thead>\n",
       "  <tbody>\n",
       "    <tr>\n",
       "      <th>13770</th>\n",
       "      <td>Where the Wild Things Are</td>\n",
       "      <td>family fantasy</td>\n",
       "      <td>max_records catherine_keener lauren_ambrose</td>\n",
       "      <td>creature based_on_children's_book children's_book</td>\n",
       "      <td>spike_jonze</td>\n",
       "      <td>wild things family fantasy family fantasy max ...</td>\n",
       "    </tr>\n",
       "    <tr>\n",
       "      <th>17504</th>\n",
       "      <td>G.I. Joe: The Revenge of Cobra</td>\n",
       "      <td>family fantasy action</td>\n",
       "      <td></td>\n",
       "      <td></td>\n",
       "      <td></td>\n",
       "      <td>g.i joe revenge cobra family fantasy action fa...</td>\n",
       "    </tr>\n",
       "    <tr>\n",
       "      <th>28394</th>\n",
       "      <td>The Rain Fairy</td>\n",
       "      <td>family fantasy</td>\n",
       "      <td></td>\n",
       "      <td></td>\n",
       "      <td></td>\n",
       "      <td>rain fairy family fantasy family fantasy</td>\n",
       "    </tr>\n",
       "    <tr>\n",
       "      <th>28401</th>\n",
       "      <td>The Amazing Mr Blunden</td>\n",
       "      <td>family fantasy</td>\n",
       "      <td>mille_dinesen robert_hansen peter_mygind</td>\n",
       "      <td>inventor board_game children</td>\n",
       "      <td>martin_miehe-renard</td>\n",
       "      <td>amazing mr blunden family fantasy family fanta...</td>\n",
       "    </tr>\n",
       "    <tr>\n",
       "      <th>11408</th>\n",
       "      <td>Spider-Man 3</td>\n",
       "      <td>fantasy action adventure</td>\n",
       "      <td>tobey_maguire kirsten_dunst james_franco</td>\n",
       "      <td>dual_identity amnesia sandstorm</td>\n",
       "      <td>sam_raimi</td>\n",
       "      <td>spider-man 3 fantasy action adventure fantasy ...</td>\n",
       "    </tr>\n",
       "    <tr>\n",
       "      <th>552</th>\n",
       "      <td>The Pagemaster</td>\n",
       "      <td>fantasy science_fiction family</td>\n",
       "      <td>macaulay_culkin christopher_lloyd patrick_stewart</td>\n",
       "      <td>library adventure part_animated</td>\n",
       "      <td>joe_johnston</td>\n",
       "      <td>pagemaster fantasy science fiction family fant...</td>\n",
       "    </tr>\n",
       "    <tr>\n",
       "      <th>7748</th>\n",
       "      <td>Spider-Man 2</td>\n",
       "      <td>action adventure fantasy</td>\n",
       "      <td>tobey_maguire kirsten_dunst james_franco</td>\n",
       "      <td>dual_identity love_of_one's_life pizza_boy</td>\n",
       "      <td>sam_raimi</td>\n",
       "      <td>spider-man 2 action adventure fantasy action a...</td>\n",
       "    </tr>\n",
       "    <tr>\n",
       "      <th>1806</th>\n",
       "      <td>Small Soldiers</td>\n",
       "      <td>comedy adventure fantasy</td>\n",
       "      <td>gregory_smith kirsten_dunst denis_leary</td>\n",
       "      <td>defense_industry toy_shop technical_toy</td>\n",
       "      <td>joe_dante</td>\n",
       "      <td>small soldiers comedy adventure fantasy comedy...</td>\n",
       "    </tr>\n",
       "    <tr>\n",
       "      <th>39899</th>\n",
       "      <td>Tainá: An Amazon Adventure</td>\n",
       "      <td>family fantasy adventure</td>\n",
       "      <td></td>\n",
       "      <td>comedy</td>\n",
       "      <td>kahane_cooperman</td>\n",
       "      <td>tainá amazon adventure family fantasy adventur...</td>\n",
       "    </tr>\n",
       "    <tr>\n",
       "      <th>22246</th>\n",
       "      <td>Maleficent</td>\n",
       "      <td>fantasy adventure action</td>\n",
       "      <td>viggo_mortensen kirsten_dunst oscar_isaac</td>\n",
       "      <td>sailboat hotel american</td>\n",
       "      <td>hossein_amini</td>\n",
       "      <td>maleficent fantasy adventure action fantasy ad...</td>\n",
       "    </tr>\n",
       "  </tbody>\n",
       "</table>\n",
       "</div>"
      ],
      "text/plain": [
       "                                title                          genres  \\\n",
       "13770       Where the Wild Things Are                  family fantasy   \n",
       "17504  G.I. Joe: The Revenge of Cobra           family fantasy action   \n",
       "28394                  The Rain Fairy                  family fantasy   \n",
       "28401          The Amazing Mr Blunden                  family fantasy   \n",
       "11408                    Spider-Man 3        fantasy action adventure   \n",
       "552                    The Pagemaster  fantasy science_fiction family   \n",
       "7748                     Spider-Man 2        action adventure fantasy   \n",
       "1806                   Small Soldiers        comedy adventure fantasy   \n",
       "39899      Tainá: An Amazon Adventure        family fantasy adventure   \n",
       "22246                      Maleficent        fantasy adventure action   \n",
       "\n",
       "                                                    cast  \\\n",
       "13770        max_records catherine_keener lauren_ambrose   \n",
       "17504                                                      \n",
       "28394                                                      \n",
       "28401           mille_dinesen robert_hansen peter_mygind   \n",
       "11408           tobey_maguire kirsten_dunst james_franco   \n",
       "552    macaulay_culkin christopher_lloyd patrick_stewart   \n",
       "7748            tobey_maguire kirsten_dunst james_franco   \n",
       "1806             gregory_smith kirsten_dunst denis_leary   \n",
       "39899                                                      \n",
       "22246          viggo_mortensen kirsten_dunst oscar_isaac   \n",
       "\n",
       "                                                keywords             director  \\\n",
       "13770  creature based_on_children's_book children's_book          spike_jonze   \n",
       "17504                                                                           \n",
       "28394                                                                           \n",
       "28401                       inventor board_game children  martin_miehe-renard   \n",
       "11408                    dual_identity amnesia sandstorm            sam_raimi   \n",
       "552                      library adventure part_animated         joe_johnston   \n",
       "7748          dual_identity love_of_one's_life pizza_boy            sam_raimi   \n",
       "1806             defense_industry toy_shop technical_toy            joe_dante   \n",
       "39899                                             comedy     kahane_cooperman   \n",
       "22246                            sailboat hotel american        hossein_amini   \n",
       "\n",
       "                                                metadata  \n",
       "13770  wild things family fantasy family fantasy max ...  \n",
       "17504  g.i joe revenge cobra family fantasy action fa...  \n",
       "28394           rain fairy family fantasy family fantasy  \n",
       "28401  amazing mr blunden family fantasy family fanta...  \n",
       "11408  spider-man 3 fantasy action adventure fantasy ...  \n",
       "552    pagemaster fantasy science fiction family fant...  \n",
       "7748   spider-man 2 action adventure fantasy action a...  \n",
       "1806   small soldiers comedy adventure fantasy comedy...  \n",
       "39899  tainá amazon adventure family fantasy adventur...  \n",
       "22246  maleficent fantasy adventure action fantasy ad...  "
      ]
     },
     "execution_count": 30,
     "metadata": {},
     "output_type": "execute_result"
    }
   ],
   "source": [
    "recsys.recommend(1) "
   ]
  },
  {
   "cell_type": "markdown",
   "id": "6a2b116a",
   "metadata": {},
   "source": [
    "### Similar Movie with Home Alone"
   ]
  },
  {
   "cell_type": "code",
   "execution_count": 31,
   "id": "e5e5f020",
   "metadata": {},
   "outputs": [
    {
     "data": {
      "text/html": [
       "<div>\n",
       "<style scoped>\n",
       "    .dataframe tbody tr th:only-of-type {\n",
       "        vertical-align: middle;\n",
       "    }\n",
       "\n",
       "    .dataframe tbody tr th {\n",
       "        vertical-align: top;\n",
       "    }\n",
       "\n",
       "    .dataframe thead th {\n",
       "        text-align: right;\n",
       "    }\n",
       "</style>\n",
       "<table border=\"1\" class=\"dataframe\">\n",
       "  <thead>\n",
       "    <tr style=\"text-align: right;\">\n",
       "      <th></th>\n",
       "      <th>title</th>\n",
       "      <th>genres</th>\n",
       "      <th>cast</th>\n",
       "      <th>keywords</th>\n",
       "      <th>director</th>\n",
       "      <th>metadata</th>\n",
       "    </tr>\n",
       "  </thead>\n",
       "  <tbody>\n",
       "    <tr>\n",
       "      <th>579</th>\n",
       "      <td>Home Alone</td>\n",
       "      <td>comedy family</td>\n",
       "      <td>macaulay_culkin joe_pesci daniel_stern</td>\n",
       "      <td>holiday burglar home_invasion</td>\n",
       "      <td>chris_columbus</td>\n",
       "      <td>home alone comedy family comedy family macaula...</td>\n",
       "    </tr>\n",
       "  </tbody>\n",
       "</table>\n",
       "</div>"
      ],
      "text/plain": [
       "          title         genres                                    cast  \\\n",
       "579  Home Alone  comedy family  macaulay_culkin joe_pesci daniel_stern   \n",
       "\n",
       "                          keywords        director  \\\n",
       "579  holiday burglar home_invasion  chris_columbus   \n",
       "\n",
       "                                              metadata  \n",
       "579  home alone comedy family comedy family macaula...  "
      ]
     },
     "execution_count": 31,
     "metadata": {},
     "output_type": "execute_result"
    }
   ],
   "source": [
    "df[df['title'] == 'Home Alone']"
   ]
  },
  {
   "cell_type": "code",
   "execution_count": 32,
   "id": "7503090c",
   "metadata": {
    "scrolled": false
   },
   "outputs": [
    {
     "data": {
      "text/html": [
       "<div>\n",
       "<style scoped>\n",
       "    .dataframe tbody tr th:only-of-type {\n",
       "        vertical-align: middle;\n",
       "    }\n",
       "\n",
       "    .dataframe tbody tr th {\n",
       "        vertical-align: top;\n",
       "    }\n",
       "\n",
       "    .dataframe thead th {\n",
       "        text-align: right;\n",
       "    }\n",
       "</style>\n",
       "<table border=\"1\" class=\"dataframe\">\n",
       "  <thead>\n",
       "    <tr style=\"text-align: right;\">\n",
       "      <th></th>\n",
       "      <th>title</th>\n",
       "      <th>genres</th>\n",
       "      <th>cast</th>\n",
       "      <th>keywords</th>\n",
       "      <th>director</th>\n",
       "      <th>metadata</th>\n",
       "    </tr>\n",
       "  </thead>\n",
       "  <tbody>\n",
       "    <tr>\n",
       "      <th>2808</th>\n",
       "      <td>Home Alone 2: Lost in New York</td>\n",
       "      <td>comedy family adventure</td>\n",
       "      <td>macaulay_culkin joe_pesci catherine_o'hara</td>\n",
       "      <td>holiday new_york new_york_city</td>\n",
       "      <td>chris_columbus</td>\n",
       "      <td>home alone 2 lost new york comedy family adven...</td>\n",
       "    </tr>\n",
       "    <tr>\n",
       "      <th>9856</th>\n",
       "      <td>Home Movie</td>\n",
       "      <td>comedy documentary</td>\n",
       "      <td></td>\n",
       "      <td></td>\n",
       "      <td>chris_smith</td>\n",
       "      <td>home movie comedy documentary comedy documenta...</td>\n",
       "    </tr>\n",
       "    <tr>\n",
       "      <th>15955</th>\n",
       "      <td>Home Alone 4</td>\n",
       "      <td>crime comedy family</td>\n",
       "      <td>french_stewart erick_avari mike_weinberg</td>\n",
       "      <td>fight father house</td>\n",
       "      <td>rod_daniel</td>\n",
       "      <td>home alone 4 crime comedy family crime comedy ...</td>\n",
       "    </tr>\n",
       "    <tr>\n",
       "      <th>1623</th>\n",
       "      <td>Home Alone 3</td>\n",
       "      <td>comedy family</td>\n",
       "      <td>alex_d._linz olek_krupa rya_kihlstedt</td>\n",
       "      <td>parent_child_relationship burglar child_hero</td>\n",
       "      <td>raja_gosnell</td>\n",
       "      <td>home alone 3 comedy family comedy family alex ...</td>\n",
       "    </tr>\n",
       "    <tr>\n",
       "      <th>23933</th>\n",
       "      <td>Home Alone: The Holiday Heist</td>\n",
       "      <td>comedy crime family</td>\n",
       "      <td>oleg_menshikov leonid_bronevoy inna_ulyanova</td>\n",
       "      <td></td>\n",
       "      <td>mikhail_kozakov</td>\n",
       "      <td>home alone holiday heist comedy crime family c...</td>\n",
       "    </tr>\n",
       "    <tr>\n",
       "      <th>552</th>\n",
       "      <td>The Pagemaster</td>\n",
       "      <td>fantasy science_fiction family</td>\n",
       "      <td>macaulay_culkin christopher_lloyd patrick_stewart</td>\n",
       "      <td>library adventure part_animated</td>\n",
       "      <td>joe_johnston</td>\n",
       "      <td>pagemaster fantasy science fiction family fant...</td>\n",
       "    </tr>\n",
       "    <tr>\n",
       "      <th>455</th>\n",
       "      <td>Getting Even with Dad</td>\n",
       "      <td>family comedy crime</td>\n",
       "      <td>macaulay_culkin ted_danson glenne_headly</td>\n",
       "      <td></td>\n",
       "      <td>howard_deutch</td>\n",
       "      <td>getting even dad family comedy crime family co...</td>\n",
       "    </tr>\n",
       "    <tr>\n",
       "      <th>19021</th>\n",
       "      <td>Nativity!</td>\n",
       "      <td>comedy family</td>\n",
       "      <td>daniel_stern braeden_lemasters stacey_travis</td>\n",
       "      <td>holiday</td>\n",
       "      <td>brian_levant</td>\n",
       "      <td>nativity comedy family comedy family daniel st...</td>\n",
       "    </tr>\n",
       "    <tr>\n",
       "      <th>5751</th>\n",
       "      <td>My Girl</td>\n",
       "      <td>comedy drama family</td>\n",
       "      <td>anna_chlumsky macaulay_culkin dan_aykroyd</td>\n",
       "      <td>neighbor child_killed_by_animal writing_class</td>\n",
       "      <td>howard_zieff</td>\n",
       "      <td>girl comedy drama family comedy drama family a...</td>\n",
       "    </tr>\n",
       "    <tr>\n",
       "      <th>369</th>\n",
       "      <td>Ri¢hie Ri¢h</td>\n",
       "      <td>comedy family</td>\n",
       "      <td>macaulay_culkin john_larroquette edward_herrmann</td>\n",
       "      <td>family life_raft private_airplane</td>\n",
       "      <td>donald_petrie</td>\n",
       "      <td>ri¢hie ri¢h comedy family comedy family macaul...</td>\n",
       "    </tr>\n",
       "  </tbody>\n",
       "</table>\n",
       "</div>"
      ],
      "text/plain": [
       "                                title                          genres  \\\n",
       "2808   Home Alone 2: Lost in New York         comedy family adventure   \n",
       "9856                       Home Movie              comedy documentary   \n",
       "15955                    Home Alone 4             crime comedy family   \n",
       "1623                     Home Alone 3                   comedy family   \n",
       "23933   Home Alone: The Holiday Heist             comedy crime family   \n",
       "552                    The Pagemaster  fantasy science_fiction family   \n",
       "455             Getting Even with Dad             family comedy crime   \n",
       "19021                       Nativity!                   comedy family   \n",
       "5751                          My Girl             comedy drama family   \n",
       "369                       Ri¢hie Ri¢h                   comedy family   \n",
       "\n",
       "                                                    cast  \\\n",
       "2808          macaulay_culkin joe_pesci catherine_o'hara   \n",
       "9856                                                       \n",
       "15955           french_stewart erick_avari mike_weinberg   \n",
       "1623               alex_d._linz olek_krupa rya_kihlstedt   \n",
       "23933       oleg_menshikov leonid_bronevoy inna_ulyanova   \n",
       "552    macaulay_culkin christopher_lloyd patrick_stewart   \n",
       "455             macaulay_culkin ted_danson glenne_headly   \n",
       "19021       daniel_stern braeden_lemasters stacey_travis   \n",
       "5751           anna_chlumsky macaulay_culkin dan_aykroyd   \n",
       "369     macaulay_culkin john_larroquette edward_herrmann   \n",
       "\n",
       "                                            keywords         director  \\\n",
       "2808                  holiday new_york new_york_city   chris_columbus   \n",
       "9856                                                      chris_smith   \n",
       "15955                             fight father house       rod_daniel   \n",
       "1623    parent_child_relationship burglar child_hero     raja_gosnell   \n",
       "23933                                                 mikhail_kozakov   \n",
       "552                  library adventure part_animated     joe_johnston   \n",
       "455                                                     howard_deutch   \n",
       "19021                                        holiday     brian_levant   \n",
       "5751   neighbor child_killed_by_animal writing_class     howard_zieff   \n",
       "369                family life_raft private_airplane    donald_petrie   \n",
       "\n",
       "                                                metadata  \n",
       "2808   home alone 2 lost new york comedy family adven...  \n",
       "9856   home movie comedy documentary comedy documenta...  \n",
       "15955  home alone 4 crime comedy family crime comedy ...  \n",
       "1623   home alone 3 comedy family comedy family alex ...  \n",
       "23933  home alone holiday heist comedy crime family c...  \n",
       "552    pagemaster fantasy science fiction family fant...  \n",
       "455    getting even dad family comedy crime family co...  \n",
       "19021  nativity comedy family comedy family daniel st...  \n",
       "5751   girl comedy drama family comedy drama family a...  \n",
       "369    ri¢hie ri¢h comedy family comedy family macaul...  "
      ]
     },
     "execution_count": 32,
     "metadata": {},
     "output_type": "execute_result"
    }
   ],
   "source": [
    "recsys.recommend(579) #Home Alone"
   ]
  }
 ],
 "metadata": {
  "kernelspec": {
   "display_name": "Python 3 (ipykernel)",
   "language": "python",
   "name": "python3"
  },
  "language_info": {
   "codemirror_mode": {
    "name": "ipython",
    "version": 3
   },
   "file_extension": ".py",
   "mimetype": "text/x-python",
   "name": "python",
   "nbconvert_exporter": "python",
   "pygments_lexer": "ipython3",
   "version": "3.8.12"
  },
  "varInspector": {
   "cols": {
    "lenName": 16,
    "lenType": 16,
    "lenVar": 40
   },
   "kernels_config": {
    "python": {
     "delete_cmd_postfix": "",
     "delete_cmd_prefix": "del ",
     "library": "var_list.py",
     "varRefreshCmd": "print(var_dic_list())"
    },
    "r": {
     "delete_cmd_postfix": ") ",
     "delete_cmd_prefix": "rm(",
     "library": "var_list.r",
     "varRefreshCmd": "cat(var_dic_list()) "
    }
   },
   "types_to_exclude": [
    "module",
    "function",
    "builtin_function_or_method",
    "instance",
    "_Feature"
   ],
   "window_display": false
  }
 },
 "nbformat": 4,
 "nbformat_minor": 5
}
